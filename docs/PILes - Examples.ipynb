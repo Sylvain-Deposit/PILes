{
 "cells": [
  {
   "cell_type": "markdown",
   "id": "0a43e493",
   "metadata": {},
   "source": [
    "# PILes\n",
    "Simple wrapper for Python PIL to draw multiple shapes on the same picture."
   ]
  },
  {
   "cell_type": "code",
   "execution_count": 1,
   "id": "166dbf4c",
   "metadata": {},
   "outputs": [],
   "source": [
    "# External imports. Matplotlib for simple displays\n",
    "import matplotlib.pyplot as plt\n",
    "%matplotlib inline\n",
    "import numpy as np\n",
    "\n",
    "from PIL import Image"
   ]
  },
  {
   "cell_type": "code",
   "execution_count": 2,
   "id": "46f3279e",
   "metadata": {},
   "outputs": [],
   "source": [
    "# Imports from this module.\n",
    "from piles import PILe, ImageDraws\n",
    "import Chatoyant\n",
    "from distributions import Spiral, Parametric, Circular, RandomCoords, Uniform\n",
    "from functions import Distance, Angle, Modify"
   ]
  },
  {
   "cell_type": "markdown",
   "id": "6aacf060",
   "metadata": {},
   "source": [
    "## The module is separated in 4 main modules: \n",
    "\n",
    "#### distributions.py to generate coordinates of complex distributions. \n",
    "Classes must output coordinates in the [-1, 1] range.\n",
    "\n",
    "#### functions.py to generate weights for the coordinates\n",
    "Classes must ouput weights in the [0, 1] range.\n",
    "\n",
    "#### Chatoyant.py to generate complex colormaps\n",
    "To be used by PILes. \n",
    "\n",
    "#### piles.py for the interface with PIL\n",
    "To draw complex images"
   ]
  },
  {
   "cell_type": "markdown",
   "id": "d4ba5c90",
   "metadata": {},
   "source": [
    "## 1. Distributions\n",
    "Distributions output a tuple of (x, y) coordinates in the [-1, 1] range."
   ]
  },
  {
   "cell_type": "code",
   "execution_count": null,
   "id": "2457f8e3",
   "metadata": {},
   "outputs": [],
   "source": [
    "# Available distributions for now.\n",
    "distribs = [Spiral().golden(), Spiral().archimedean(), Spiral().quadratic(), Spiral().patterned(),\n",
    "                Parametric().sunflower(), Parametric().lissajous(), Parametric().gear(),\n",
    "                Circular().uniform(), Circular().polygon(), Circular().star(),\n",
    "                RandomCoords().disk(), RandomCoords().normal(), RandomCoords().circular(), RandomCoords().rectangular(),\n",
    "                Uniform().square(), Uniform().hexagon()]\n",
    "    \n",
    "names = ['Golden Spiral', 'Archimedean Spiral', 'Quadratic Spiral', 'Patterned Spiral',\n",
    "         'Sunflower', 'Lissajous', 'Gears',\n",
    "         'Circular Uniform', 'Polygon', 'Star',\n",
    "         'Random Disk', 'Random Normal', 'Random Circular', 'Random Rectangular',\n",
    "         'Uniform Square', 'Uniform Hexagonal']\n",
    "\n",
    "fig, axes = plt.subplots(figsize=(12, 12), nrows=4, ncols=4, sharex=True, sharey=True)\n",
    "ax = axes.ravel()\n",
    "\n",
    "# Let's plot them\n",
    "for i, (dist, name) in enumerate(zip(distribs, names)):\n",
    "\n",
    "    ax[i].scatter(*dist)\n",
    "    ax[i].set_aspect('equal')\n",
    "    ax[i].set_title(name)\n",
    "    ax[i].axis('off')\n",
    "\n",
    "fig.suptitle('Available distributions', fontsize=18)\n",
    "fig.tight_layout(pad=1.2)"
   ]
  },
  {
   "cell_type": "markdown",
   "id": "65bbe956",
   "metadata": {},
   "source": [
    "Each distribution has parameters to change the final shape. Example here when changing the parameter k of quadratic spirals."
   ]
  },
  {
   "cell_type": "code",
   "execution_count": null,
   "id": "bfa1b685",
   "metadata": {},
   "outputs": [],
   "source": [
    "fig, axes = plt.subplots(figsize=(16,4), ncols=4, nrows=1)\n",
    "ax = axes.ravel()\n",
    "[(x.axis('off'), \n",
    "  x.set_aspect('equal'),) for x in ax]\n",
    "\n",
    "for i, k in enumerate([5, 10, 15, 20]):\n",
    "    x, y = Spiral(n=100).quadratic(k=k)\n",
    "    ax[i].scatter(x, y)\n",
    "    ax[i].set_title(f'k={k}')\n",
    "\n",
    "fig.suptitle('Changing Parameter k of Quadratic Spirals', fontsize=18)\n",
    "fig.tight_layout(pad=1.2)"
   ]
  },
  {
   "cell_type": "markdown",
   "id": "c91e934b",
   "metadata": {},
   "source": [
    "And for sunflower distributions:"
   ]
  },
  {
   "cell_type": "code",
   "execution_count": null,
   "id": "b97e6810",
   "metadata": {},
   "outputs": [],
   "source": [
    "fig, axes = plt.subplots(figsize=(16,4), ncols=4, nrows=1)\n",
    "ax = axes.ravel()\n",
    "[(x.axis('off'), \n",
    "  x.set_aspect('equal'),) for x in ax]\n",
    "\n",
    "for i, a in enumerate([1, 2, 3, 4]):\n",
    "    x, y = Parametric(n=100).sunflower(alpha=a)\n",
    "    ax[i].scatter(x, y)\n",
    "    ax[i].set_title(f'alpha={a}')\n",
    "\n",
    "fig.suptitle('Changing parameter alpha of Sunflower distributions', fontsize=18)\n",
    "fig.tight_layout(pad=1.2)"
   ]
  },
  {
   "cell_type": "markdown",
   "id": "997c7542",
   "metadata": {},
   "source": [
    "## 2. Functions\n",
    "Functions to create weights from the coordinates generated by the distributions. It has to outputs values between 0 and 1.\n",
    "Available: dependent to distance from the centre of the distribution and dependent to the angle theta of the point."
   ]
  },
  {
   "cell_type": "code",
   "execution_count": null,
   "id": "a8dd6f78",
   "metadata": {},
   "outputs": [],
   "source": [
    "fig, axes = plt.subplots(figsize=(16,4), ncols=4, nrows=1)\n",
    "ax = axes.ravel()\n",
    "[(x.axis('off'), \n",
    "  x.set_aspect('equal'),) for x in ax]\n",
    "\n",
    "x, y = Parametric(n=500).sunflower() # 500 points with sunflower distribution\n",
    "\n",
    "# Examples of use\n",
    "sizes = Distance(x, y).wave(waves=2) # 2 waves depending on distance from centre\n",
    "sizes2 = Angle(x, y).wave(waves=3) # 3 waves depending on the theta angle of the point\n",
    "\n",
    "ax[0].scatter(x, y, s=20, c = 'red')\n",
    "ax[0].set_title('Sunflower Distribution')\n",
    "\n",
    "ax[1].scatter(x, y, s=sizes*20, c = 'red')\n",
    "ax[1].set_title('Sizes depending on distance')\n",
    "\n",
    "ax[2].scatter(x, y, s=sizes2*20, c = 'red')\n",
    "ax[2].set_title('Sizes depending on angle')\n",
    "\n",
    "ax[3].scatter(x, y, s=sizes*sizes2*20, c = 'red') # Simply multiply the sizes to combine them \n",
    "ax[3].set_title('Sizes depending on distance & angle');\n",
    "\n",
    "fig.suptitle('Size can be modified by distance from centre and theta angle', fontsize=18)\n",
    "fig.tight_layout(pad=1.2)\n"
   ]
  },
  {
   "cell_type": "markdown",
   "id": "6ef446a3",
   "metadata": {},
   "source": [
    "## 3. Chatoyant\n",
    "Module made to easily create color maps.\n",
    "\n",
    "They can be created from Matplotlib colormaps:"
   ]
  },
  {
   "cell_type": "code",
   "execution_count": null,
   "id": "72679506",
   "metadata": {},
   "outputs": [],
   "source": [
    "Chatoyant.ColorMap().from_matplotlib('inferno', n=20)"
   ]
  },
  {
   "cell_type": "markdown",
   "id": "56386852",
   "metadata": {},
   "source": [
    "Inverted, added together."
   ]
  },
  {
   "cell_type": "code",
   "execution_count": null,
   "id": "f9a0879c",
   "metadata": {},
   "outputs": [],
   "source": [
    "cmap = Chatoyant.ColorMap().from_matplotlib('RdBu', n=20)\n",
    "cmap + cmap.invert()"
   ]
  },
  {
   "cell_type": "markdown",
   "id": "7339f538",
   "metadata": {},
   "source": [
    "They can also be created from list of known color names or (R, G, B) tuples and then be interpolated:"
   ]
  },
  {
   "cell_type": "code",
   "execution_count": null,
   "id": "f1190a3e",
   "metadata": {},
   "outputs": [],
   "source": [
    "Chatoyant.ColorMap().from_list(color_list=[(255, 0, 0), 'green', 'blue', (0, 0, 0)]).extend(20)"
   ]
  },
  {
   "cell_type": "markdown",
   "id": "0dea4508",
   "metadata": {},
   "source": [
    "Everything can be combined to produce complex colormaps."
   ]
  },
  {
   "cell_type": "code",
   "execution_count": null,
   "id": "8bd93a79",
   "metadata": {},
   "outputs": [],
   "source": [
    "cmap1 = Chatoyant.ColorMap().from_matplotlib('inferno', n=20)\n",
    "cmap2 = Chatoyant.ColorMap().from_matplotlib('viridis', n=50).invert()\n",
    "\n",
    "cmap3 = (cmap1 + cmap2).loop(n=2).set_name('Shiny one')\n",
    "cmap3"
   ]
  },
  {
   "cell_type": "markdown",
   "id": "d1ebd2ca",
   "metadata": {},
   "source": [
    "See a Notebook for more details how to use it: https://github.com/Sylvain-Deposit/Chatoyant/blob/main/Chatoyant%20Example.ipynb"
   ]
  },
  {
   "cell_type": "markdown",
   "id": "8e512ddf",
   "metadata": {},
   "source": [
    "## 4.PILes\n",
    "Wrapper made on top of PIL to draw multiple shapes with different sizes, colors, alphas, etc... in a single call.\n",
    "It is fully compatible with PIL, uses the same format and outputs the same kind of images.\n",
    "However, it has to be fed with a PILe dataclass containing the coordinates, sizes, colors, angles, etc... generated by the distributions, functions, colormaps modules.\n",
    "\n",
    "As it is using PIL, remember that color values are in (R, G, B) with values between 0 and 255, alphas are between 0 and 255, angles between 0 and 360 degrees, contour widths must be integer, etc...\n",
    "\n",
    "The default PILe class is as follow:\n",
    "\n",
    "    @dataclass\n",
    "    class PILe:    \n",
    "        coords = (np.asarray([0]), np.asarray([0])) # one object at (0, 0), centre of the image\n",
    "        height = 2              # see below\n",
    "        width = 2\n",
    "        shapes = 'circle'       # A circle\n",
    "        sizes = 20              # of size 20\n",
    "        alphas = 255            # fully visible\n",
    "        colors = (255, 0, 0)    # red\n",
    "        outlines = (0, 0, 0)    # with black outline\n",
    "        widths = 3              # of width 3\n",
    "        angles = 0              # not rotated\n",
    "        ratios = 1              # height & width of the object are the same\n",
    "        \n",
    "        images =  Image.new(\"RGBA\", (10, 10), (255, 255, 255, 0)) # A transparent 10*10 image, to be used by DrawImages\n",
    "\n",
    "\n",
    "Note the height and width of 2: as the x and y coordinates will be scaled by PILe.width/2 + img.width/2. To enter 2 allows to simply enter the coordinates of the points wherever we want, keeping the centre of the image as (0, 0). Any number other than 2 will scale the coordinates to fit in a (width, height) rectangle in the centre of the image.  \n",
    "\n",
    "When using the default PILe class, it should generate a single red disk with dark outline, in the centre of the image:"
   ]
  },
  {
   "cell_type": "code",
   "execution_count": null,
   "id": "37a6de62",
   "metadata": {},
   "outputs": [],
   "source": [
    "# First, creating a regular PIL image\n",
    "img1 = Image.new(\"RGBA\", (50, 50), (255, 255, 255, 255))\n",
    "\n",
    "default = PILe()\n",
    "# Calling ImageDraws from PILes for multiple drawings\n",
    "drawer = ImageDraws(img1) \n",
    "# And DrawShapes from PILes\n",
    "drawer.DrawShapes(default) \n",
    "\n",
    "display(img1)"
   ]
  },
  {
   "cell_type": "markdown",
   "id": "80f41459",
   "metadata": {},
   "source": [
    "We can use it to draw multiple shapes on a single image at any coordinates. However, rememeber the (0,0) reference is at the centre of the image.\n",
    "As we enter list of values, they will be cycled to reach the proper length"
   ]
  },
  {
   "cell_type": "code",
   "execution_count": null,
   "id": "9e05a5d3",
   "metadata": {},
   "outputs": [],
   "source": [
    "mult = PILe()\n",
    "mult.coords = [-20, 0, 0, 20], [0, 20, -20, 0] # We can add coordinates, (0,0) is the centre of the image\n",
    "mult.sizes = [5, 10, 15, 10] # Different sizes of objects\n",
    "mult.widths = [1, 2, 4, 0] # Different widths of contours\n",
    "mult.colors = ['red', 'green', 'blue', 'grey'] # Different colors\n",
    "mult.shapes = ['circle', 'rectangle']  # Different shapes.\n",
    "mult.ratios = [1, 0.8, 1, 2] # ratios define the width/height ratio of the shape. For rectangles and ellipses.\n",
    "\n",
    "img2 = Image.new(\"RGBA\", (100, 100), (255, 255, 255, 2555))\n",
    "drawer = ImageDraws(img2)\n",
    "drawer.DrawShapes(mult)\n",
    "display(img2)"
   ]
  },
  {
   "cell_type": "markdown",
   "id": "e5fd8610",
   "metadata": {},
   "source": [
    "By using the distributions module, we can easily generate multiple coordinates and simply pass them to the PILe dataclass:"
   ]
  },
  {
   "cell_type": "code",
   "execution_count": null,
   "id": "16f9d889",
   "metadata": {},
   "outputs": [],
   "source": [
    "rosetta = PILe() # Let's draw a simple rosetta.\n",
    "rosetta.coords = Circular(n=6).uniform(turns=1) # This will produce 6 points, uniformly spread on a circle.\n",
    "rosetta.height, rosetta.width = 100, 100 # These are the dimensions for the centres of the circles\n",
    "rosetta.shapes = 'circle' # We will draw circles\n",
    "rosetta.sizes = 50 # Half the size of the image for regular rosetta\n",
    "rosetta.colors = None # No colors will keep the shape empty\n",
    "rosetta.outlines = 'black'\n",
    "rosetta.widths = 4\n",
    "\n",
    "# With centres in a 100*100 pixels area and radius of 50, the image will be 200 pixels wide and length\n",
    "img3 = Image.new(\"RGBA\", (210, 210), (255, 255, 255, 255))\n",
    "drawer = ImageDraws(img3)\n",
    "drawer.DrawShapes(rosetta)\n",
    "display(img3)"
   ]
  },
  {
   "cell_type": "markdown",
   "id": "f48639cd",
   "metadata": {},
   "source": [
    "We can use the colormaps made with ColorPiles as individual shape color:"
   ]
  },
  {
   "cell_type": "code",
   "execution_count": null,
   "id": "977f32c3",
   "metadata": {},
   "outputs": [],
   "source": [
    "disk = PILe()\n",
    "disk.height, disk.width = 600, 600\n",
    "x, y = RandomCoords(n=1000).disk() # Just 1000 circles in a random disk distribution\n",
    "disk.coords = x, y\n",
    "disk.sizes = 20 # Single size\n",
    "distances = Distance(x, y).inc_uniform() # This will generate an array of values in [0, 1] depending on distance\n",
    "disk.colors = cmap3.map_to_index(distances) # Using the previous cmap3 indexed by distance.\n",
    "disk.alphas = 128 # Adding transparency to each disk. Alphais between 0 and 255\n",
    "disk.widths = 0 # No contour\n",
    "\n",
    "img4 = Image.new(\"RGBA\", (800, 800), (255, 255, 255, 255))\n",
    "drawer = ImageDraws(img4)\n",
    "drawer.DrawShapes(disk)\n",
    "display(img4)"
   ]
  },
  {
   "cell_type": "markdown",
   "id": "47b0e3d5",
   "metadata": {},
   "source": [
    "We can play with colors, contours, alphas, sizes, etc..."
   ]
  },
  {
   "cell_type": "code",
   "execution_count": null,
   "id": "8246805b",
   "metadata": {},
   "outputs": [],
   "source": [
    "sunflower = PILe()\n",
    "sunflower.height, sunflower.width = 600, 600\n",
    "x, y = Parametric(n=500).sunflower()\n",
    "sunflower.coords = x, y\n",
    "\n",
    "# As functions outputs weights between 0 and 1, we have to scale the sizes to pixels.\n",
    "sunflower.sizes = Distance(x, y).wave(waves=2) * 10 + 8\n",
    "\n",
    "distances = Distance(x, y).inc_uniform()\n",
    "\n",
    "sunflower.colors = Chatoyant.ColorMap().from_matplotlib('RdBu', n=20).map_to_index(distances)\n",
    "sunflower.alphas = [int(x) for x in Angle(x, y).wave(waves=5) * 255]\n",
    "# Note that I did not specify any contours, but it is 3 pixels by default\n",
    "\n",
    "img5 = Image.new(\"RGBA\", (800, 800), (255, 255, 255, 255))\n",
    "drawer = ImageDraws(img5)\n",
    "drawer.DrawShapes(sunflower)\n",
    "display(img5)"
   ]
  },
  {
   "cell_type": "markdown",
   "id": "0d676c38",
   "metadata": {},
   "source": [
    "And play with shapes as well. Accepted shapes are triangle, square, rectangle, pentagon, hexagon, heptagon, octagon and any regular shape called 'n-gon'. A 3-gon and a triangle are equivalent."
   ]
  },
  {
   "cell_type": "code",
   "execution_count": null,
   "id": "c3d96f07",
   "metadata": {},
   "outputs": [],
   "source": [
    "spiral2 = PILe()\n",
    "spiral2.height, spiral2.width = 600, 600\n",
    "x2, y2 = Spiral(n=200).quadratic(k=11)\n",
    "spiral2.coords = x2, y2\n",
    "spiral2.shapes = 'hexagon'\n",
    "\n",
    "# Again, scaling the weights from [0, 1] to the wanted sizes\n",
    "spiral2.widths = (- Distance(x2, y2).normal() * 5) + 6\n",
    "spiral2.sizes = - Distance(x2, y2).normal() * 20 + 30\n",
    "\n",
    "distances = Distance(x2, y2).inc_uniform()\n",
    "\n",
    "spiral2.colors = Chatoyant.ColorMap().from_matplotlib('inferno', 20).map_to_index(distances)\n",
    "spiral2.outlines = Chatoyant.ColorMap().from_matplotlib('viridis', 10).invert().map_to_index(distances)\n",
    "spiral2.angles = Angle(x2, y2).wave() * 45\n",
    "spiral2.alphas = 255\n",
    "\n",
    "img6 = Image.new(\"RGBA\", (800, 800), (128, 128, 128, 0))\n",
    "drawer = ImageDraws(img6)\n",
    "drawer.DrawShapes(spiral2)\n",
    "\n",
    "display(img6)"
   ]
  },
  {
   "cell_type": "markdown",
   "id": "f3d4e1e9",
   "metadata": {},
   "source": [
    "All attributes can be indexed by any array, used as an index.\n",
    "Either colormaps:"
   ]
  },
  {
   "cell_type": "code",
   "execution_count": null,
   "id": "49d9f123",
   "metadata": {},
   "outputs": [],
   "source": [
    "tiles = PILe()\n",
    "\n",
    "tiles.height, tiles.width = 600, 600\n",
    "x, y = Uniform(n=200).square()\n",
    "tiles.coords = x, y\n",
    "tiles.shapes = 'square'\n",
    "# widths, sizes and angles will change through distance from centre of distribution\n",
    "# We have to make sure the widths and sizes are positive integers in the end.\n",
    "tiles.widths = (- Distance(x, y).normal() * 5) + 6\n",
    "tiles.sizes = - Distance(x, y).normal(sd=0.6) * 25 + 30\n",
    "tiles.angles = Distance(x, y).wave(waves=1) * 45 \n",
    "\n",
    "# colors will be indexed by x or y axis.\n",
    "tiles.colors = Chatoyant.ColorMap().from_matplotlib('RdBu', 12).map_to_index(x)\n",
    "tiles.outlines = Chatoyant.ColorMap().from_matplotlib('RdYlBu', 12).invert().map_to_index(y)\n",
    "\n",
    "tiles.alphas = 255\n",
    "\n",
    "img7 = Image.new(\"RGBA\", (800, 800), (128, 128, 128, 0))\n",
    "drawer = ImageDraws(img7)\n",
    "drawer.DrawShapes(tiles)\n",
    "\n",
    "display(img7)\n"
   ]
  },
  {
   "cell_type": "markdown",
   "id": "35995b44",
   "metadata": {},
   "source": [
    "We can index sizes, widths, etc... as well:"
   ]
  },
  {
   "cell_type": "code",
   "execution_count": null,
   "id": "f43b69c0",
   "metadata": {},
   "outputs": [],
   "source": [
    "tiles2 = PILe()\n",
    "\n",
    "tiles2.height, tiles2.width = 400, 400\n",
    "x, y = Uniform(n=300).hexagon()\n",
    "\n",
    "# x and y are numpy arrays, so we can manipulate them easily\n",
    "mask = (x**2 + y**2) <= 1\n",
    "x = x[mask]\n",
    "y = y[mask]\n",
    "\n",
    "# Let's add some jitter in the coordinates with the 'Modify' class.\n",
    "tiles2.coords = Modify(x, y).jitter(x = 0, y = 0.1)\n",
    "tiles2.shapes = 'circle'\n",
    "# widths and sizes and angles will change through axis\n",
    "# We need to normalize the values between 0 and 1 first. \n",
    "norm_x, norm_y = Modify(x, y).normalize() \n",
    "tiles2.widths = norm_x * 5 + 1\n",
    "tiles2.sizes = norm_y * 15 + 5\n",
    "\n",
    "# colors will be indexed by x or y axis.\n",
    "tiles2.colors = Chatoyant.ColorMap().from_matplotlib('RdBu', 12).map_to_index(x)\n",
    "tiles2.outlines = Chatoyant.ColorMap().from_matplotlib('RdYlBu', 12).invert().map_to_index(x)\n",
    "\n",
    "tiles2.alphas = 255\n",
    "tiles2.angles = 0\n",
    "\n",
    "img8 = Image.new(\"RGBA\", (450, 450), (128, 128, 128, 0))\n",
    "drawer = ImageDraws(img8)\n",
    "drawer.DrawShapes(tiles2)\n",
    "\n",
    "display(img8)"
   ]
  },
  {
   "cell_type": "markdown",
   "id": "ef7543ae",
   "metadata": {},
   "source": [
    "# DrawLines\n",
    "The module comes with a 'DrawLines' method, which will draw a line between (x, y) pairs of coordinates.\n",
    "It uses the same dataclass and can be used with any previous PILe object. Example by drawing the lines between the centres of the rosetta:"
   ]
  },
  {
   "cell_type": "code",
   "execution_count": null,
   "id": "e726c7eb",
   "metadata": {},
   "outputs": [],
   "source": [
    "img4 = Image.new(\"RGBA\", (210, 210), (255, 255, 255, 255))\n",
    "drawer = ImageDraws(img4)\n",
    "drawer.DrawShapes(rosetta) # First we draw the rosetta\n",
    "\n",
    "# Drawlines will simply draw a line between each (x, y) pair of coordinates.\n",
    "# closed = True will close the shape, drawing a line between the first and last point\n",
    "drawer.DrawLines(rosetta, closed=True) # that's all.\n",
    "\n",
    "display(img4)"
   ]
  },
  {
   "cell_type": "markdown",
   "id": "04dbb680",
   "metadata": {},
   "source": [
    "The DrawLines method comes with 2 keyword arguments: continuous=True and closed=False by default.\n",
    "They allow to control the behaviour of the method.\n",
    "continous = True will draw a line between each point one by one, when continuous = False will draw a line every two points.\n",
    "closed = True will draw a line between the last and first point, when closed = False will stop at the last point.\n",
    "\n",
    "As an example:"
   ]
  },
  {
   "cell_type": "code",
   "execution_count": null,
   "id": "f608ace3",
   "metadata": {},
   "outputs": [],
   "source": [
    "# Let's create a Spiral distribution.\n",
    "spiral = PILe() \n",
    "spiral.coords = Spiral(n=50).golden() \n",
    "spiral.height, spiral.width = 300, 300\n",
    "spiral.outlines = 'black'\n",
    "spiral.widths = 8\n"
   ]
  },
  {
   "cell_type": "markdown",
   "id": "b4980669",
   "metadata": {},
   "source": [
    "Let's create 3 images from this distribution, with different parameters."
   ]
  },
  {
   "cell_type": "code",
   "execution_count": null,
   "id": "07b920f2",
   "metadata": {},
   "outputs": [],
   "source": [
    "img3 = Image.new(\"RGBA\", (310, 310), (255, 255, 255, 255))\n",
    "drawer = ImageDraws(img3)\n",
    "drawer.DrawLines(spiral, closed=False) # First image will be an open shape\n",
    "\n",
    "img4 = Image.new(\"RGBA\", (310, 310), (255, 255, 255, 255))\n",
    "drawer = ImageDraws(img4)\n",
    "drawer.DrawLines(spiral, closed=True) # Second Image will show a closed shape\n",
    "\n",
    "img5 = Image.new(\"RGBA\", (310, 310), (255, 255, 255, 255))\n",
    "drawer = ImageDraws(img5)\n",
    "drawer.DrawLines(spiral, continuous=False) # Third Image will have only 1 line every 2.\n"
   ]
  },
  {
   "cell_type": "markdown",
   "id": "dd568ea0",
   "metadata": {},
   "source": [
    "To better present multiple PIL pictures, we can use GroupImages:"
   ]
  },
  {
   "cell_type": "code",
   "execution_count": null,
   "id": "f243b9f4",
   "metadata": {},
   "outputs": [],
   "source": [
    "from piles import GroupImages\n",
    "\n",
    "final = GroupImages([img3, img4, img5]).multidraw(ncols=3, nrows=1, border = 10, titles=['Open', 'Closed', 'Alternate'])\n",
    "display(final)"
   ]
  },
  {
   "cell_type": "markdown",
   "id": "a4735d53",
   "metadata": {},
   "source": [
    "We can make complex drawings with the DrawLines method as well:"
   ]
  },
  {
   "cell_type": "code",
   "execution_count": null,
   "id": "e3df7ccb",
   "metadata": {},
   "outputs": [],
   "source": [
    "spiral3 = PILe()\n",
    "spiral3.height, spiral3.width = 400, 400\n",
    "x3, y3 = Spiral(n=500).quadratic(k=17)\n",
    "spiral3.coords = x3, y3\n",
    "\n",
    "spiral3.widths = (- Distance(x3, y3).normal() * 5) + 10\n",
    "\n",
    "distances = Distance(x3, y3).inc_uniform()\n",
    "\n",
    "# Playing with outlines colors and not fill colors.\n",
    "spiral3.outlines = Chatoyant.ColorMap().from_matplotlib('seismic', 50).map_to_index(distances) \n",
    "\n",
    "spiral3.alphas = Angle(x3, y3).wave(waves=5) * 128\n",
    "\n",
    "img7 = Image.new(\"RGBA\", (450, 450), (128, 128, 128, 0))\n",
    "drawer = ImageDraws(img7)\n",
    "drawer.DrawLines(spiral3)\n",
    "\n",
    "display(img7)"
   ]
  },
  {
   "cell_type": "markdown",
   "id": "474c857f",
   "metadata": {},
   "source": [
    "### Note\n",
    "PIL does not manage anti-aliasing. To create it, best method is to generate big images and then downsize them.\n",
    "As an example, if we take the last image generated:\n"
   ]
  },
  {
   "cell_type": "code",
   "execution_count": null,
   "id": "92653afc",
   "metadata": {},
   "outputs": [],
   "source": [
    "spiral3 = PILe()\n",
    "spiral3.height, spiral3.width = 1200, 1200 # Let's make it BIG! Multiplying dimensions by 3.\n",
    "x3, y3 = Spiral(n=500).quadratic(k=17)\n",
    "spiral3.coords = x3, y3\n",
    "\n",
    "spiral3.widths = (- Distance(x3, y3).normal() * 15) + 30 # Simply multiply everything by 3\n",
    "distances = Distance(x3, y3).inc_uniform()\n",
    "\n",
    "# Playing with outlines colors and not fill colors.\n",
    "spiral3.outlines = Chatoyant.ColorMap().from_matplotlib('seismic', 50).map_to_index(distances) \n",
    "spiral3.alphas = Angle(x3, y3).wave(waves=5) * 128\n",
    "\n",
    "img8 = Image.new(\"RGBA\", (1350, 1350), (128, 128, 128, 0)) # canvas size was multiplied by 3 as well.\n",
    "drawer = ImageDraws(img8)\n",
    "\n",
    "drawer.DrawLines(spiral3) \n",
    "\n",
    "img9 = img8.resize ((450, 450)) # And then downsize it to original size\n",
    "\n",
    "comparison = GroupImages([img7, img9]).multidraw(nrows=1, ncols=2, titles=['Small size', 'Big size, downscaled'])\n",
    "\n",
    "display(comparison) # Note the anti-aliased image compared to previous one."
   ]
  },
  {
   "cell_type": "markdown",
   "id": "8cc26c90",
   "metadata": {},
   "source": [
    "Aliasing disappeared due to the downsizing. Note that it takes longer to draw big images, so it might be wise to do trials on small ones only."
   ]
  },
  {
   "cell_type": "markdown",
   "id": "a7c51aaa",
   "metadata": {},
   "source": [
    "# DrawImages\n",
    "\n",
    "The module can work with images as well, repeating them at the desired coordinates.\n",
    "The only difference is the parameter 'sizes', as it will be a multiplier of the original size of the image. It should be set to 1 for keeping the original size of the image."
   ]
  },
  {
   "cell_type": "code",
   "execution_count": null,
   "id": "af7176f9",
   "metadata": {},
   "outputs": [],
   "source": [
    "# First, creating a regular PIL image\n",
    "tile = Image.new(\"RGBA\", (100, 100), (255, 255, 255, 0))\n",
    "\n",
    "tile_pict = PILe()\n",
    "# We will draw shapes wherever we want, hence the values of 2.\n",
    "tile_pict.width, tile_pict.height = 2, 2\n",
    "tile_pict.coords = ([0, 0, 0, 0, 0], [0, -10, -16, -12, -10])\n",
    "tile_pict.shapes = ['ellipse']\n",
    "tile_pict.colors = ['light_sea_green', 'orange', 'blue', 'black', 'light_blue']\n",
    "tile_pict.sizes = [40, 28, 20, 12, 6]\n",
    "tile_pict.ratios = [0.8, 0.9, 1, 1.2, 1.5]\n",
    "\n",
    "tile_pict.widths = 0\n",
    "tile_pict.angles = 0 \n",
    "# We draw the tile in a small image\n",
    "drawer = ImageDraws(tile) \n",
    "drawer.DrawShapes(tile_pict) \n",
    "\n",
    "# Here is the tile\n",
    "display(tile)"
   ]
  },
  {
   "cell_type": "code",
   "execution_count": null,
   "id": "24bc599d",
   "metadata": {},
   "outputs": [],
   "source": [
    "# Now we will distribute this image with a new PILe object:\n",
    "img2 = Image.new(\"RGBA\", (800, 800), (255, 255, 255, 0))\n",
    "\n",
    "pattern = PILe()\n",
    "pattern.height, pattern.width = 600, 600\n",
    "# Distribution on a hexagonal lattice\n",
    "x, y = Parametric(n=100).sunflower()\n",
    "pattern.coords = x, y\n",
    "\n",
    "# We simply put the previous image in the PILe Dataclass\n",
    "\n",
    "pattern.images = tile\n",
    "pattern.alphas = 255\n",
    "\n",
    "# Images will be rotated along the x axis\n",
    "# Angles follow radian notation, so starting at the right and going counter-clockwise. \n",
    "# And the image has to be rotated 90 degrees first.\n",
    "pattern.angles = 90 + Angle(x, y).inc_uniform() * 360\n",
    "\n",
    "# Size will vary according to the distance from the distribution centre, from half to full size.\n",
    "pattern.sizes = Distance(x, y).inc_uniform() * 0.5 + 0.5\n",
    "\n",
    "# And we draw the images with DrawImages\n",
    "drawer = ImageDraws(img2)\n",
    "drawer.DrawImages(pattern)\n",
    "\n",
    "display(img2)"
   ]
  },
  {
   "cell_type": "markdown",
   "id": "4ac4fe99",
   "metadata": {},
   "source": [
    "## Other\n",
    "#### Perlin Noise and weights according to neighbours.\n",
    "We can either draw Perlin noise, or use it as weights according to number of neighbours, etc..."
   ]
  },
  {
   "cell_type": "code",
   "execution_count": null,
   "id": "669ebeb3",
   "metadata": {},
   "outputs": [],
   "source": [
    "from distributions import Noise\n",
    "from functions import Weights\n",
    "\n",
    "noise = PILe()\n",
    "\n",
    "x, y = RandomCoords(5000).disk() # Random points in a disk shape.\n",
    "noise.coords = x, y\n",
    "\n",
    "a, b = Noise(steps=300, amount=2).perlin(grid=10) # Perlin noise\n",
    "\n",
    "noise.width, noise.height = 500, 500\n",
    "noise.widths = 0\n",
    "\n",
    "# Calculate how many (a, b) neighbours have points in (x, y).\n",
    "# If we remove \"a, b\", it will calculate the number of neighbours of x and y.\n",
    "n = Weights(x, y).n_neighbors(a, b, dist=0.2)\n",
    "\n",
    "# Sizes and colors of the (x, y) points will be dependent on their number of neighbors on (a, b).\n",
    "# So sizes and colors will be dependent of the perlin noise.\n",
    "noise.sizes = n * 5 + 2\n",
    "noise.colors = Chatoyant.ColorMap().from_matplotlib('Spectral', n=100).map_to_index(n)\n",
    "\n",
    "noise_img = Image.new(\"RGBA\", (500, 500), (255, 255, 255, 0))\n",
    "drawer = ImageDraws(noise_img)\n",
    "drawer.DrawShapes(noise)\n",
    "\n",
    "display(noise_img)"
   ]
  },
  {
   "cell_type": "markdown",
   "id": "ebb33b7a",
   "metadata": {},
   "source": [
    "#### Image to PILe\n",
    "This function will extract the shapes of a PILe from an image, to generate distributions with images."
   ]
  },
  {
   "cell_type": "code",
   "execution_count": null,
   "id": "a7e089f1",
   "metadata": {
    "scrolled": false
   },
   "outputs": [],
   "source": [
    "from piles import ImageOps\n",
    "\n",
    "pix = Image.open(r'Portal_Companion_Cube.jpg').convert('RGBA') # Our best talking friend\n",
    "\n",
    "# Just doing a basic PILe with sunflower sistribution\n",
    "sunflower = PILe()\n",
    "sunflower.width, sunflower.height = pix.size\n",
    "x, y = Parametric(n=500).sunflower()\n",
    "sunflower.coords = x, y\n",
    "sunflower.sizes = Distance(x, y).wave(waves=2) * 10 + 5\n",
    "sunflower.widths = 0\n",
    "sunflower.alphas = 255\n",
    "sunflower.colors = 'black'\n",
    "sunflower.shapes = 'triangle'\n",
    "sunflower.ratios = 1\n",
    "\n",
    "# And draw it to show what it looks like\n",
    "sun_img = Image.new(\"RGBA\", pix.size, (255, 255, 255, 255))\n",
    "drawer = ImageDraws(sun_img)\n",
    "drawer.DrawShapes(sunflower)\n",
    "\n",
    "# Let's combine the PILe with the image to extract all the tiles.\n",
    "tiles = ImageOps(pix).to_pile_images(sunflower)\n",
    "# And show the result\n",
    "tile_img = Image.new(\"RGBA\", pix.size, (255, 255, 255, 255))\n",
    "drawer = ImageDraws(tile_img)\n",
    "# Use DrawImages to draw the tiles and not the shapes.\n",
    "drawer.DrawImages(tiles)\n",
    "\n",
    "# We can now modify this PILe object, for example introducing angle noise\n",
    "tiles.angles = np.random.uniform(-60, 60, len(tiles.coords[0]))\n",
    "# And draw the modified result.\n",
    "tile_img2 = Image.new(\"RGBA\", pix.size, (255, 255, 255, 255))\n",
    "drawer = ImageDraws(tile_img2)\n",
    "drawer.DrawImages(tiles)\n",
    "\n",
    "# Let's show everything.\n",
    "GroupImages([pix, sun_img, tile_img, tile_img2]).multidraw(ncols=2, nrows=2, \n",
    "                                                           titles=['Image', 'PILe', \n",
    "                                                                   'Pile Images', 'Modified PIle'])"
   ]
  },
  {
   "cell_type": "markdown",
   "id": "c0fbd3f0",
   "metadata": {},
   "source": [
    "#### Combination with TILEs\n",
    "The module TILEs (https://github.com/Sylvain-Deposit/TILEs) will decompose the image in quadtrees, voronoitrees, etc...\n",
    "It returns a dict of all extracted components: polygons, colors, images, and other that can be then used by PILes to modify them."
   ]
  },
  {
   "cell_type": "code",
   "execution_count": null,
   "id": "e0397145",
   "metadata": {},
   "outputs": [],
   "source": [
    "from TILEs import quadtree\n",
    "pix = Image.open(r'Portal_Companion_Cube.jpg')\n",
    "\n",
    "# quad_img is the new quadtree image.\n",
    "# quad_pile is the PILe object\n",
    "quad_dict = quadtree(pix, std_thr=5)\n",
    "\n",
    "quad_pile = PILe()\n",
    "\n",
    "x = np.asarray(quad_dict['x']) - (pix.width / 2)\n",
    "y = np.asarray(quad_dict['y']) - (pix.height / 2)\n",
    "s = np.asarray(quad_dict['height']) / 2\n",
    "r = np.asarray(quad_dict['width']) / np.asarray(quad_dict['height'])\n",
    "c = quad_dict['colors']\n",
    "\n",
    "quad_pile.coords = x, -y  # -y as images y coords are flipped\n",
    "quad_pile.sizes = s\n",
    "quad_pile.ratios = r\n",
    "quad_pile.colors = c\n",
    "quad_pile.shapes = 'rectangle'\n",
    "quad_pile.angles = 0\n",
    "quad_pile.widths = 0\n",
    "\n",
    "# Let's draw the PILe object in a new image. It will be the quadtree image\n",
    "img3 = Image.new(\"RGBA\", (pix.size), (255, 255, 255, 255))\n",
    "drawer = ImageDraws(img3)\n",
    "drawer.DrawShapes(quad_pile)\n",
    "\n",
    "# We can modify the PILe object: replace the shapes by triangles, add some rotation noise, etc...\n",
    "quad_pile.shapes = 'triangle'\n",
    "quad_pile.angles = np.random.uniform(-90, 90, len(quad_pile.coords[0]))\n",
    "quad_pile.sizes = quad_pile.sizes * 3\n",
    "\n",
    "# We have to sort the shapes in descending order, to draw the small shapes on top of the others.\n",
    "quad_pile.sort(sort=['coords', 'sizes', 'colors', 'ratios'], by='sizes', descending=True)\n",
    "\n",
    "# And draw the new PILe object\n",
    "img4 = Image.new(\"RGBA\", (pix.size), (255, 255, 255, 255))\n",
    "drawer = ImageDraws(img4)\n",
    "drawer.DrawShapes(quad_pile)\n",
    "\n",
    "# Let's show the outlines of the polygons\n",
    "quad_pile.widths = 1\n",
    "img5 = Image.new(\"RGBA\", (pix.size), (255, 255, 255, 255))\n",
    "drawer = ImageDraws(img5)\n",
    "drawer.DrawShapes(quad_pile)\n",
    "\n",
    "# And display everything\n",
    "final = GroupImages([pix, img3, img4, img5]).multidraw(nrows=2, ncols=2, \n",
    "                                               titles=['Original', 'PILe from Quadtree', \n",
    "                                                       'Modified PILe', 'Modified PILe with outlines'])\n",
    "display(final)\n",
    "\n"
   ]
  },
  {
   "cell_type": "code",
   "execution_count": null,
   "id": "5f88b550",
   "metadata": {},
   "outputs": [],
   "source": []
  }
 ],
 "metadata": {
  "kernelspec": {
   "display_name": "Python 3 (ipykernel)",
   "language": "python",
   "name": "python3"
  },
  "language_info": {
   "codemirror_mode": {
    "name": "ipython",
    "version": 3
   },
   "file_extension": ".py",
   "mimetype": "text/x-python",
   "name": "python",
   "nbconvert_exporter": "python",
   "pygments_lexer": "ipython3",
   "version": "3.9.12"
  },
  "vscode": {
   "interpreter": {
    "hash": "71ca79eba7fb36233a427f5c5ad0313ed4f64e2ee7642ba8d56802738e59ee70"
   }
  }
 },
 "nbformat": 4,
 "nbformat_minor": 5
}
